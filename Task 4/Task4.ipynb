{
 "cells": [
  {
   "cell_type": "code",
   "execution_count": 30,
   "metadata": {},
   "outputs": [],
   "source": [
    "import pandas as pd\n",
    "import numpy as np\n",
    "import matplotlib.pyplot as plt\n",
    "from scipy import optimize\n",
    "import os\n",
    "import random\n",
    "from tabulate import tabulate\n",
    "import math"
   ]
  },
  {
   "cell_type": "code",
   "execution_count": 31,
   "metadata": {},
   "outputs": [],
   "source": [
    "def generate_noisy():\n",
    "    \n",
    "    x = []\n",
    "    y = []\n",
    "\n",
    "    def fx(x):        \n",
    "        return 1/(x**2 - 3*x + 2)\n",
    "\n",
    "    for k in range(1000):\n",
    "        xk = 3*k/1000\n",
    "        x.append(xk)\n",
    "        fxk = fx(xk)\n",
    "        delta = np.random.normal(0,1)\n",
    "\n",
    "        if fxk < -100:            \n",
    "            y.append(-100 + delta)\n",
    "        elif fxk >= -100 and fxk <= 100:            \n",
    "            y.append(fxk + delta)\n",
    "        else:            \n",
    "            y.append(100 + delta)\n",
    "        \n",
    "    return np.array(x), np.array(y)\n",
    "\n",
    "def _rational(x, a, b, c, d):\n",
    "    return (a*x + b) / (x**2 + c*x + d)\n",
    "\n",
    "def rational(init_point, *args):\n",
    "    a, b, c, d = init_point\n",
    "    x, y = args[0], args[1]\n",
    "    return np.sum((_rational(x, a, b, c, d) - y)**2)\n",
    "\n",
    "def rational_resid(init_point, *args):\n",
    "    a, b, c, d = init_point\n",
    "    x, y = args[0], args[1]\n",
    "\n",
    "    return abs(_rational(x, a, b, c, d) - y)"
   ]
  },
  {
   "cell_type": "code",
   "execution_count": 32,
   "metadata": {},
   "outputs": [
    {
     "data": {
      "image/png": "[encoded data removed]",
      "text/plain": [
       "<Figure size 432x288 with 1 Axes>"
      ]
     },
     "metadata": {
      "needs_background": "light"
     },
     "output_type": "display_data"
    }
   ],
   "source": [
    "x,y = generate_noisy()\n",
    "error = 0.001\n",
    "init_point = [1,-1,-1,1]\n",
    "\n",
    "plt.plot(x, y)\n",
    "plt.show()"
   ]
  },
  {
   "cell_type": "code",
   "execution_count": 33,
   "metadata": {},
   "outputs": [
    {
     "name": "stdout",
     "output_type": "stream",
     "text": [
      "Optimization terminated successfully.\n",
      "         Current function value: 159387.220319\n",
      "         Iterations: 381\n",
      "         Function evaluations: 654\n",
      "[ 0.46868963 -0.93744433 -4.00071403  4.00143178]\n"
     ]
    }
   ],
   "source": [
    "nelder = optimize.minimize(rational, init_point, args=(x, y), method='nelder-mead', tol=error, options={'disp': True})\n",
    "na, nb, nc, nd = nelder['x']\n",
    "print(nelder['x'])"
   ]
  },
  {
   "cell_type": "code",
   "execution_count": 34,
   "metadata": {},
   "outputs": [
    {
     "name": "stdout",
     "output_type": "stream",
     "text": [
      "Current function value: 121241.63089752002\n",
      "Function Calls: 141\n",
      "[-2.39031235  2.399753   -2.02713833  1.03374704]\n",
      "\n"
     ]
    }
   ],
   "source": [
    "levenberg = optimize.least_squares(rational_resid, init_point, args=(x, y), method='lm', xtol=error)\n",
    "la, lb, lc, ld = levenberg['x']\n",
    "print(f'Current function value: {levenberg[\"cost\"]}')\n",
    "print(f'Function Calls: {levenberg[\"nfev\"]}')\n",
    "print(levenberg['x'], end='\\n\\n')"
   ]
  },
  {
   "cell_type": "code",
   "execution_count": 35,
   "metadata": {},
   "outputs": [
    {
     "name": "stdout",
     "output_type": "stream",
     "text": [
      "     fun: 136066.70225887786\n",
      "     jac: array([-206834.30089528, -207865.56601851,  405533.87617354,\n",
      "        386356.46577107])\n",
      " message: 'Optimization terminated successfully.'\n",
      "    nfev: 8460\n",
      "     nit: 139\n",
      " success: True\n",
      "       x: array([-0.99038634,  0.9908374 , -2.00085827,  1.00087405])\n"
     ]
    }
   ],
   "source": [
    "bounds = [(-7, 4), (-7, 4), (-7, 4), (-7, 4)]\n",
    "evolution = optimize.differential_evolution(rational, bounds, args=(x, y), tol=error)\n",
    "ea, eb, ec, ed = evolution['x']\n",
    "print(evolution)"
   ]
  },
  {
   "cell_type": "code",
   "execution_count": 36,
   "metadata": {},
   "outputs": [
    {
     "name": "stdout",
     "output_type": "stream",
     "text": [
      "     fun: 136057.78588246027\n",
      " message: ['Maximum number of iteration reached']\n",
      "    nfev: 8931\n",
      "    nhev: 0\n",
      "     nit: 1000\n",
      "    njev: 186\n",
      "  status: 0\n",
      " success: True\n",
      "       x: array([-0.99975461,  1.00023851, -2.00092014,  1.00093626])\n"
     ]
    }
   ],
   "source": [
    "annealing = optimize.dual_annealing(rational, bounds, args=(x, y))\n",
    "aa, ab, ac, ad = annealing['x']\n",
    "print(annealing)"
   ]
  },
  {
   "cell_type": "code",
   "execution_count": 37,
   "metadata": {},
   "outputs": [
    {
     "name": "stdout",
     "output_type": "stream",
     "text": [
      "Table Comparison\n",
      "                                a          b         c        d    Fx value    Iterations    Fx calls\n",
      "----------------------  ---------  ---------  --------  -------  ----------  ------------  ----------\n",
      "Differential Evolution  -0.990386   0.990837  -2.00086  1.00087      136067           139        8460\n",
      "Simulated Annealing     -0.999755   1.00024   -2.00092  1.00094      136058          1000        8931\n",
      "Nelder-Mead              0.46869   -0.937444  -4.00071  4.00143      159387           381         654\n",
      "Levenberg-Marquadt      -2.39031    2.39975   -2.02714  1.03375      121242           141         141\n"
     ]
    }
   ],
   "source": [
    "headers = ['a', 'b', 'c', 'd', 'Fx value', 'Iterations', 'Fx calls']\n",
    "index = ['Differential Evolution', 'Simulated Annealing', 'Nelder-Mead', 'Levenberg-Marquadt']\n",
    "table = [\n",
    "    [ea, eb, ec, ed, evolution['fun'], evolution['nit'], evolution['nfev']],\n",
    "    [aa, ab, ac, ad, annealing['fun'], annealing['nit'], annealing['nfev']],\n",
    "    [na, nb, nc, nd, nelder['fun'], nelder['nit'], nelder['nfev']],    \n",
    "    [la, lb, lc, ld, levenberg['cost'], levenberg['nfev'], levenberg['nfev']],\n",
    "]\n",
    "\n",
    "print('Table Comparison')\n",
    "print(tabulate(table, headers=headers, showindex=index))"
   ]
  },
  {
   "cell_type": "code",
   "execution_count": 38,
   "metadata": {},
   "outputs": [
    {
     "data": {
      "image/png": "[encoded data removed]",
      "text/plain": [
       "<Figure size 576x360 with 1 Axes>"
      ]
     },
     "metadata": {
      "needs_background": "light"
     },
     "output_type": "display_data"
    }
   ],
   "source": [
    "plt.figure(figsize=(8,5))\n",
    "plt.plot(x, y)\n",
    "plt.plot(x, _rational(x, na, nb, nc, nd), label='Nelder-Mead')\n",
    "plt.plot(x, _rational(x, la, lb, lc, ld), label='Levenberg-Marquadt')\n",
    "plt.plot(x, _rational(x, ea, eb, ec, ed), label='Differential Evolution')\n",
    "plt.plot(x, _rational(x, aa, ab, ac, ad), label='Simulated Annealing')\n",
    "plt.legend()\n",
    "plt.show()"
   ]
  },
  {
   "cell_type": "code",
   "execution_count": null,
   "metadata": {},
   "outputs": [],
   "source": []
  }
 ],
 "metadata": {
  "kernelspec": {
   "display_name": "Python 3.8.8 ('base')",
   "language": "python",
   "name": "python3"
  },
  "language_info": {
   "codemirror_mode": {
    "name": "ipython",
    "version": 3
   },
   "file_extension": ".py",
   "mimetype": "text/x-python",
   "name": "python",
   "nbconvert_exporter": "python",
   "pygments_lexer": "ipython3",
   "version": "3.8.8"
  },
  "orig_nbformat": 4,
  "vscode": {
   "interpreter": {
    "hash": "49cb93f377a7abe7414b7b0f21fb3017538004a126cf690fb524202736b7fb92"
   }
  }
 },
 "nbformat": 4,
 "nbformat_minor": 2
}
