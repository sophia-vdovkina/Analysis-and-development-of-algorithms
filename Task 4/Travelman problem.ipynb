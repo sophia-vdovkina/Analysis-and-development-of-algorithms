{
 "cells": [
  {
   "cell_type": "code",
   "execution_count": 1,
   "metadata": {},
   "outputs": [],
   "source": [
    "import numpy as np\n",
    "import numpy.random as random\n",
    "\n",
    "import matplotlib.pyplot as plt\n",
    "from typing import List\n",
    "%matplotlib inline"
   ]
  },
  {
   "cell_type": "markdown",
   "metadata": {},
   "source": [
    "# Part 2"
   ]
  },
  {
   "cell_type": "code",
   "execution_count": 2,
   "metadata": {},
   "outputs": [],
   "source": [
    "distance_matrix: List[List[float]] = []\n",
    "\n",
    "class City:\n",
    "\n",
    "    def __init__(self, index: int, x: float, y: float):\n",
    "        self.index = index\n",
    "        self.x = x\n",
    "        self.y = y\n",
    "\n",
    "    def compute_distance(self, city: \"City\"):\n",
    "        return np.sqrt((self.x - city.x)**2 + (self.y - city.y)**2)\n",
    "\n",
    "    def __str__(self):\n",
    "        return '%d %f %f' % (self.index, self.x, self.y)\n",
    "\n",
    "    def __repr__(self):\n",
    "        return self.__str__()\n",
    "\n",
    "    def distance_to_city(self, city: \"City\"):\n",
    "        \"\"\"Distance to another city using pre-computed distance.\"\"\"\n",
    "        global distance_matrix\n",
    "        if self.index != city.index:\n",
    "            indices = [self.index, city.index]\n",
    "            return distance_matrix[max(indices)][min(indices)]\n",
    "        return 0"
   ]
  },
  {
   "cell_type": "code",
   "execution_count": 3,
   "metadata": {},
   "outputs": [],
   "source": [
    "def compute_distance_pair(cities: List[City], out: List[List[float]]):\n",
    "    for city_from in cities:\n",
    "        out.append([0 for r in range(city_from.index)])\n",
    "        for city_to in cities[:city_from.index]:\n",
    "            out[city_from.index][city_to.index] = city_from.compute_distance(city_to)"
   ]
  },
  {
   "cell_type": "code",
   "execution_count": 4,
   "metadata": {},
   "outputs": [],
   "source": [
    "def read_cities(filename: str):\n",
    "    with open(filename, 'r') as f:\n",
    "        rows = [line.split() for line in f]\n",
    "        cities = [City(index, float(coord[0]), float(coord[1])) for index, coord in enumerate(rows)]\n",
    "        return cities"
   ]
  },
  {
   "cell_type": "code",
   "execution_count": 5,
   "metadata": {},
   "outputs": [],
   "source": [
    "def total_distance(cities: List[City]):\n",
    "    distances = [cities[index].distance_to_city(cities[(index + 1) % len(cities)]) for index in range(len(cities))]\n",
    "    return sum(distances)"
   ]
  },
  {
   "cell_type": "code",
   "execution_count": 6,
   "metadata": {},
   "outputs": [],
   "source": [
    "cities = read_cities(\"lau15_xy.txt\")"
   ]
  },
  {
   "cell_type": "code",
   "execution_count": 7,
   "metadata": {},
   "outputs": [],
   "source": [
    "compute_distance_pair(cities, distance_matrix)"
   ]
  },
  {
   "cell_type": "code",
   "execution_count": 8,
   "metadata": {},
   "outputs": [
    {
     "data": {
      "text/plain": [
       "[[],\n",
       " [28.8733000549963],\n",
       " [82.12952630201566, 54.773225415025095],\n",
       " [45.798532289995, 45.658960397684105, 68.27106573725065],\n",
       " [68.35015747765308, 42.02945446628839, 45.67884154332288, 82.28891089934294],\n",
       " [52.07763037224608,\n",
       "  43.217096744631874,\n",
       "  54.76484963158395,\n",
       "  14.401837905281393,\n",
       "  74.25389314675697],\n",
       " [72.07872877509762,\n",
       "  43.205581569150674,\n",
       "  22.75820510045028,\n",
       "  72.08048339443044,\n",
       "  22.92069009063996,\n",
       "  61.10753794545287],\n",
       " [42.021184255086084,\n",
       "  22.76963428980829,\n",
       "  43.25551073609003,\n",
       "  30.51648564989095,\n",
       "  52.130339835646566,\n",
       "  22.70224944471363,\n",
       "  42.11940302766127],\n",
       " [51.01660496179669,\n",
       "  22.831269461146494,\n",
       "  40.721275063692445,\n",
       "  62.13119423103745,\n",
       "  20.358579404342038,\n",
       "  54.93979813631372,\n",
       "  22.763969281659143,\n",
       "  32.38730180735808],\n",
       " [54.999851491069606,\n",
       "  30.618415611452697,\n",
       "  28.70629548548541,\n",
       "  42.025427983543494,\n",
       "  45.73414736190017,\n",
       "  30.515913275043896,\n",
       "  30.59175084149257,\n",
       "  14.549321997261593,\n",
       "  28.962860693289603],\n",
       " [28.729621053402905,\n",
       "  40.63515089342802,\n",
       "  79.49407488435828,\n",
       "  20.63515020221954,\n",
       "  82.08402544504844,\n",
       "  32.34820296380868,\n",
       "  77.5344335741477,\n",
       "  36.59918969116613,\n",
       "  61.95239559616126,\n",
       "  50.952978147666315],\n",
       " [74.4094712632744,\n",
       "  51.10681948024459,\n",
       "  20.412598306928,\n",
       "  50.95841784847721,\n",
       "  57.9616931169199,\n",
       "  36.73154730269337,\n",
       "  36.91232955456159,\n",
       "  32.44497034980923,\n",
       "  45.82684536841806,\n",
       "  20.48842748919497,\n",
       "  65.3634437185646],\n",
       " [22.710147825294822,\n",
       "  10.390598409340887,\n",
       "  64.53727736036282,\n",
       "  51.16833510795911,\n",
       "  45.640079177061025,\n",
       "  51.098493604942995,\n",
       "  51.081360373720685,\n",
       "  32.38017953341828,\n",
       "  28.982552281545185,\n",
       "  41.009010812556795,\n",
       "  41.90305249159971,\n",
       "  61.49740547190914],\n",
       " [72.00534443522137,\n",
       "  51.90414602533657,\n",
       "  30.808909453273415,\n",
       "  42.91122512816431,\n",
       "  65.5431036753677,\n",
       "  28.51022015435868,\n",
       "  45.79179667207612,\n",
       "  30.525324352412703,\n",
       "  51.118842308046254,\n",
       "  22.760032284687117,\n",
       "  59.24022259960002,\n",
       "  10.401326935540487,\n",
       "  62.11602594307205],\n",
       " [45.4628101583087,\n",
       "  20.331957511567506,\n",
       "  51.03909542860257,\n",
       "  64.53535684142453,\n",
       "  22.88735150361439,\n",
       "  59.44634845387898,\n",
       "  32.37410225275693,\n",
       "  36.84582256443734,\n",
       "  10.318773936321119,\n",
       "  36.916191594068856,\n",
       "  60.966033255828286,\n",
       "  55.198204090803536,\n",
       "  22.7527792727482,\n",
       "  59.595944248329516]]"
      ]
     },
     "execution_count": 8,
     "metadata": {},
     "output_type": "execute_result"
    }
   ],
   "source": [
    "distance_matrix"
   ]
  },
  {
   "cell_type": "code",
   "execution_count": 9,
   "metadata": {},
   "outputs": [],
   "source": [
    "def plot_cities(cities: List[City], figure_id: int):\n",
    "    fig_map = plt.figure(figure_id)\n",
    "    ax_map = fig_map.add_subplot(111)\n",
    "\n",
    "    cities_x = [city.x for city in cities + [cities[0]]]\n",
    "    cities_y = [city.y for city in cities + [cities[0]]]\n",
    "    ax_map.plot(cities_x, cities_y, 'go-')\n",
    "    ax_map.grid()\n",
    "\n",
    "    return fig_map, ax_map"
   ]
  },
  {
   "cell_type": "code",
   "execution_count": 10,
   "metadata": {},
   "outputs": [
    {
     "data": {
      "image/png": "[encoded data removed]",
      "text/plain": [
       "<Figure size 432x288 with 1 Axes>"
      ]
     },
     "metadata": {
      "needs_background": "light"
     },
     "output_type": "display_data"
    }
   ],
   "source": [
    "fig_map, ax_map = plot_cities(cities, 1)"
   ]
  },
  {
   "cell_type": "code",
   "execution_count": 11,
   "metadata": {},
   "outputs": [
    {
     "data": {
      "text/plain": [
       "818.0261064149839"
      ]
     },
     "execution_count": 11,
     "metadata": {},
     "output_type": "execute_result"
    }
   ],
   "source": [
    "total_distance(cities)"
   ]
  },
  {
   "cell_type": "code",
   "execution_count": 12,
   "metadata": {},
   "outputs": [],
   "source": [
    "def compute_path_indeces(index: int, num_of_cities: int):\n",
    "    index_previous = (index - 1) % num_of_cities\n",
    "    index_next = (index + 1) % num_of_cities\n",
    "    return (index_previous, index_next)"
   ]
  },
  {
   "cell_type": "code",
   "execution_count": 13,
   "metadata": {},
   "outputs": [],
   "source": [
    "def distance_swap(cities: List[City], index_a: int, index_B: int):\n",
    "    \"\"\"\n",
    "    Compute the distance inferred by the two given indices.\n",
    "    Used to optimize computation of total distances\n",
    "    \"\"\"\n",
    "\n",
    "    index_A = min(index_a, index_B)\n",
    "    index_B = max(index_a, index_B)\n",
    "\n",
    "    (index_a_previous, index_a_next) = compute_path_indeces(index_A, len(cities))\n",
    "    (index_b_previous, index_b_next) = compute_path_indeces(index_B, len(cities))\n",
    "\n",
    "    distances: List[float] = []\n",
    "\n",
    "    distances.append(cities[index_a_previous].distance_to_city(cities[index_A]))\n",
    "    distances.append(cities[index_B].distance_to_city(cities[index_b_next]))\n",
    "\n",
    "    # two cases of swaping indeces\n",
    "    if index_A == index_b_previous:\n",
    "        # --a_previous--a--b--b_next-- -> --a_previous--b--a--b_next-- \n",
    "        distances.append(cities[index_A].distance_to_city(cities[index_B]))\n",
    "    else:\n",
    "        #--a_previous--a--a_next ... b_previous-b--b_next -> --a_previous--b--a_next ... b_previous-a--b_next \n",
    "        distances.append(cities[index_A].distance_to_city(cities[index_a_next]))\n",
    "        distances.append(cities[index_b_previous].distance_to_city(cities[index_B]))\n",
    "        \n",
    "    return sum(distances)"
   ]
  },
  {
   "cell_type": "code",
   "execution_count": 14,
   "metadata": {},
   "outputs": [],
   "source": [
    "def annealing(cities: List[City], temperature: float = 100, temperature_end: float = 1, cooling_factor: float=.99):\n",
    "    cities_best = cities[:]\n",
    "    distance_best = total_distance(cities_best)\n",
    "    print(distance_best)\n",
    "\n",
    "    cities_new = cities_best[:]\n",
    "    cities_current = cities_best[:]\n",
    "\n",
    "    distance_new = distance_best\n",
    "    distance_current = distance_best\n",
    "\n",
    "    step = 0\n",
    "    while temperature > temperature_end:\n",
    "        #choose indexes to swap random\n",
    "        index_0: int = random.randint(low=1, high=len(cities))\n",
    "        index_1: int = random.randint(low=1, high=len(cities))\n",
    "\n",
    "        swap_before = distance_swap(cities_new, index_0, index_1)\n",
    "        cities_new[index_0], cities_new[index_1] = cities_new[index_1], cities_new[index_0]\n",
    "        swap_after = distance_swap(cities_new, index_0, index_1)\n",
    "        \n",
    "        # distance_new = distance_new - swap_before + swap_after\n",
    "        distance_new = total_distance(cities_new)\n",
    "        # print(distance_new)\n",
    "        diff = distance_new - distance_current\n",
    "\n",
    "        if diff < 0 or  np.exp( -diff / temperature ) > random.random():\n",
    "            cities_current = cities_new[:]\n",
    "            distance_current = distance_new\n",
    "        else:\n",
    "            distance_new = distance_current\n",
    "            cities_new = cities_current[:]\n",
    "\n",
    "        if distance_current < distance_best:\n",
    "            cities_best = cities_current[:]\n",
    "            distance_best = distance_current\n",
    "\n",
    "        temperature = temperature * cooling_factor\n",
    "        step = step + 1\n",
    "    \n",
    "    return cities_best, distance_best, step\n"
   ]
  },
  {
   "cell_type": "code",
   "execution_count": 15,
   "metadata": {},
   "outputs": [
    {
     "name": "stdout",
     "output_type": "stream",
     "text": [
      "818.0261064149839\n"
     ]
    }
   ],
   "source": [
    "cities_best, distance_best, steps = annealing(cities, temperature=1e3, cooling_factor=0.999)"
   ]
  },
  {
   "cell_type": "code",
   "execution_count": 16,
   "metadata": {},
   "outputs": [
    {
     "data": {
      "image/png": "[encoded data removed]",
      "text/plain": [
       "<Figure size 432x288 with 1 Axes>"
      ]
     },
     "metadata": {
      "needs_background": "light"
     },
     "output_type": "display_data"
    }
   ],
   "source": [
    "fig_map, ax_map = plot_cities(cities_best, 1)"
   ]
  },
  {
   "cell_type": "code",
   "execution_count": 17,
   "metadata": {},
   "outputs": [
    {
     "data": {
      "text/plain": [
       "321.41747289475757"
      ]
     },
     "execution_count": 17,
     "metadata": {},
     "output_type": "execute_result"
    }
   ],
   "source": [
    "total_distance(cities_best)"
   ]
  },
  {
   "cell_type": "code",
   "execution_count": null,
   "metadata": {},
   "outputs": [],
   "source": []
  }
 ],
 "metadata": {
  "kernelspec": {
   "display_name": "Python 3.8.8 ('base')",
   "language": "python",
   "name": "python3"
  },
  "language_info": {
   "codemirror_mode": {
    "name": "ipython",
    "version": 3
   },
   "file_extension": ".py",
   "mimetype": "text/x-python",
   "name": "python",
   "nbconvert_exporter": "python",
   "pygments_lexer": "ipython3",
   "version": "3.8.8"
  },
  "orig_nbformat": 4,
  "vscode": {
   "interpreter": {
    "hash": "49cb93f377a7abe7414b7b0f21fb3017538004a126cf690fb524202736b7fb92"
   }
  }
 },
 "nbformat": 4,
 "nbformat_minor": 2
}
