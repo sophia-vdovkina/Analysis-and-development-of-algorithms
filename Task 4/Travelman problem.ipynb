{
 "cells": [
  {
   "cell_type": "code",
   "execution_count": 53,
   "metadata": {},
   "outputs": [],
   "source": [
    "import numpy as np\n",
    "import numpy.random as random\n",
    "\n",
    "import matplotlib.pyplot as plt\n",
    "from typing import List\n",
    "%matplotlib inline"
   ]
  },
  {
   "cell_type": "markdown",
   "metadata": {},
   "source": [
    "# Part 2"
   ]
  },
  {
   "cell_type": "code",
   "execution_count": 54,
   "metadata": {},
   "outputs": [],
   "source": [
    "distance_matrix: List[List[float]] = []\n",
    "\n",
    "class City:\n",
    "\n",
    "    def __init__(self, index: int, x: float, y: float):\n",
    "        self.index = index\n",
    "        self.x = x\n",
    "        self.y = y\n",
    "\n",
    "    def compute_distance(self, city: \"City\"):\n",
    "        return np.sqrt((self.x - city.x)**2 + (self.y - city.y)**2)\n",
    "\n",
    "    def __str__(self):\n",
    "        return '%d %f %f' % (self.index, self.x, self.y)\n",
    "\n",
    "    def __repr__(self):\n",
    "        return self.__str__()\n",
    "\n",
    "    def distance_to_city(self, city: \"City\"):\n",
    "        \"\"\"Distance to another city using pre-computed distance.\"\"\"\n",
    "        global distance_matrix\n",
    "        if self.index != city.index:\n",
    "            indices = [self.index, city.index]\n",
    "            return distance_matrix[max(indices)][min(indices)]\n",
    "        return 0"
   ]
  },
  {
   "cell_type": "code",
   "execution_count": 55,
   "metadata": {},
   "outputs": [],
   "source": [
    "def compute_distance_pair(cities: List[City], out: List[List[float]]):\n",
    "    for city_from in cities:\n",
    "        out.append([0 for r in range(city_from.index)])\n",
    "        for city_to in cities[:city_from.index]:\n",
    "            out[city_from.index][city_to.index] = city_from.compute_distance(city_to)"
   ]
  },
  {
   "cell_type": "code",
   "execution_count": 56,
   "metadata": {},
   "outputs": [],
   "source": [
    "def read_cities(filename: str):\n",
    "    with open(filename, 'r') as f:\n",
    "        rows = [line.split() for line in f]\n",
    "        cities = [City(index, float(coord[0]), float(coord[1])) for index, coord in enumerate(rows)]\n",
    "        return cities"
   ]
  },
  {
   "cell_type": "code",
   "execution_count": 57,
   "metadata": {},
   "outputs": [],
   "source": [
    "def total_distance(cities: List[City]):\n",
    "    distances = [cities[index].distance_to_city(cities[(index + 1) % len(cities)]) for index in range(len(cities))]\n",
    "    return sum(distances)"
   ]
  },
  {
   "cell_type": "code",
   "execution_count": 58,
   "metadata": {},
   "outputs": [],
   "source": [
    "cities = read_cities(\"towns.txt\")"
   ]
  },
  {
   "cell_type": "code",
   "execution_count": 59,
   "metadata": {},
   "outputs": [],
   "source": [
    "compute_distance_pair(cities, distance_matrix)"
   ]
  },
  {
   "cell_type": "code",
   "execution_count": 60,
   "metadata": {},
   "outputs": [
    {
     "data": {
      "text/plain": [
       "[[],\n",
       " [144.81022063376605],\n",
       " [114.93476410555685, 144.22205101855957],\n",
       " [105.4229576515476, 181.91206666958627, 49.678969393496885],\n",
       " [31.89043743820395, 147.61097520171052, 86.33075929238663, 73.60027173862879],\n",
       " [109.73149046650191,\n",
       "  76.79192665899195,\n",
       "  169.26015479137433,\n",
       "  189.39112967612817,\n",
       "  128.76334882255898],\n",
       " [135.94851966829208,\n",
       "  195.02820308868152,\n",
       "  51.419840528729765,\n",
       "  31.622776601683793,\n",
       "  104.06248123122954,\n",
       "  212.5111761766896],\n",
       " [132.83448347473634,\n",
       "  73.76313442364011,\n",
       "  78.18567643756751,\n",
       "  124.02015965156633,\n",
       "  119.23086848631104,\n",
       "  126.25371281669304,\n",
       "  129.34063553268942],\n",
       " [85.80209787645055,\n",
       "  64.62197768561404,\n",
       "  130.78226179417453,\n",
       "  152.64337522473747,\n",
       "  97.71898484941399,\n",
       "  38.48376280978771,\n",
       "  174.64249196572982,\n",
       "  92.78469701410896],\n",
       " [79.83107164506812,\n",
       "  114.84337159801605,\n",
       "  42.20189569201838,\n",
       "  67.26812023536856,\n",
       "  57.42821606144492,\n",
       "  128.41339493993607,\n",
       "  85.0,\n",
       "  65.80273550544841,\n",
       "  90.13878188659973],\n",
       " [158.00316452527144,\n",
       "  220.6558406206371,\n",
       "  76.53103945458993,\n",
       "  52.69724850502159,\n",
       "  126.24579200908045,\n",
       "  238.41560351621283,\n",
       "  26.1725046566048,\n",
       "  153.52524222420234,\n",
       "  200.66140635408692,\n",
       "  111.15754585272202],\n",
       " [20.248456731316587,\n",
       "  135.88230201170424,\n",
       "  94.82615672903758,\n",
       "  88.83692925805124,\n",
       "  17.11724276862369,\n",
       "  112.14722466472365,\n",
       "  118.40608092492548,\n",
       "  115.69356075426151,\n",
       "  82.46211251235322,\n",
       "  59.841457201508724,\n",
       "  141.50971698084905],\n",
       " [73.53910524340094,\n",
       "  71.84705978674423,\n",
       "  114.93476410555685,\n",
       "  135.6244815658294,\n",
       "  82.0792300158816,\n",
       "  54.70831746635972,\n",
       "  157.8923684032892,\n",
       "  84.50443775329198,\n",
       "  17.029386365926403,\n",
       "  73.7360156233031,\n",
       "  183.86136081297778,\n",
       "  67.60177512462228],\n",
       " [162.88953311984167,\n",
       "  18.35755975068582,\n",
       "  154.8709139896837,\n",
       "  195.1127878945919,\n",
       "  164.6572197020222,\n",
       "  92.02173656261873,\n",
       "  206.1674077054858,\n",
       "  80.09993757800315,\n",
       "  82.85529554590944,\n",
       "  128.69343417595164,\n",
       "  231.36551169091732,\n",
       "  153.44380078712857,\n",
       "  90.13878188659973],\n",
       " [127.9531164137865,\n",
       "  39.319206502675,\n",
       "  105.80170130957252,\n",
       "  146.18481453283715,\n",
       "  122.9186723000212,\n",
       "  95.1892851112981,\n",
       "  157.00318468107582,\n",
       "  35.34119409414458,\n",
       "  66.70832032063167,\n",
       "  80.52949770115296,\n",
       "  182.33211456021672,\n",
       "  114.58621208504974,\n",
       "  64.03124237432849,\n",
       "  49.24428900898052],\n",
       " [190.51771571168914,\n",
       "  60.67124524847005,\n",
       "  151.15885683611134,\n",
       "  197.80040444852483,\n",
       "  184.83506160899236,\n",
       "  137.46272221951665,\n",
       "  201.55644370746373,\n",
       "  73.78346698278686,\n",
       "  120.93386622447825,\n",
       "  137.2953021774598,\n",
       "  224.61077445216202,\n",
       "  177.15812146215595,\n",
       "  123.22743201089601,\n",
       "  47.53945729601885,\n",
       "  62.64982043070834],\n",
       " [156.08010763707205,\n",
       "  37.64306044943742,\n",
       "  125.57467897629681,\n",
       "  169.49631264425784,\n",
       "  151.02979838429235,\n",
       "  110.67971810589327,\n",
       "  176.92088627406318,\n",
       "  47.853944456021594,\n",
       "  89.0,\n",
       "  106.01886624558857,\n",
       "  201.32560691576222,\n",
       "  142.88806808127822,\n",
       "  89.62700485902673,\n",
       "  35.4682957019364,\n",
       "  28.30194339616981,\n",
       "  34.438350715445125],\n",
       " [58.52349955359813,\n",
       "  101.01980003939822,\n",
       "  137.27709204379295,\n",
       "  147.05441169852742,\n",
       "  80.09993757800315,\n",
       "  51.264022471905186,\n",
       "  173.5655495770978,\n",
       "  118.96217886370441,\n",
       "  36.40054944640259,\n",
       "  95.13148795220224,\n",
       "  198.53966858036205,\n",
       "  63.0317380372777,\n",
       "  35.22782990761707,\n",
       "  119.23086848631104,\n",
       "  99.02019995940222,\n",
       "  156.52475842498527,\n",
       "  123.68508398347798],\n",
       " [87.65842800324451,\n",
       "  62.433965115151864,\n",
       "  94.37160589923221,\n",
       "  123.68508398347798,\n",
       "  85.70297544426332,\n",
       "  77.10382610480494,\n",
       "  141.59802258506295,\n",
       "  55.97320787662612,\n",
       "  39.6232255123179,\n",
       "  57.0,\n",
       "  167.7647161950331,\n",
       "  75.43208866258443,\n",
       "  28.635642126552707,\n",
       "  79.02531240052139,\n",
       "  40.496913462633174,\n",
       "  102.88342918079665,\n",
       "  68.4470598345904,\n",
       "  63.06346010171025],\n",
       " [71.40028011149536,\n",
       "  146.32839779072276,\n",
       "  46.69047011971501,\n",
       "  40.792156108742276,\n",
       "  40.70626487409524,\n",
       "  148.6371420607918,\n",
       "  67.23094525588644,\n",
       "  98.49365461794989,\n",
       "  112.16059914247963,\n",
       "  33.421549934136806,\n",
       "  91.7877987534291,\n",
       "  52.3450093132096,\n",
       "  95.13148795220224,\n",
       "  161.01242188104618,\n",
       "  113.53413583587978,\n",
       "  170.66048165876012,\n",
       "  139.40229553346674,\n",
       "  106.77546534667971,\n",
       "  85.61541917201598],\n",
       " [154.8967397978408,\n",
       "  205.03902067655318,\n",
       "  61.1310068623117,\n",
       "  51.03920062069938,\n",
       "  123.0447073221762,\n",
       "  227.68399153212331,\n",
       "  19.4164878389476,\n",
       "  136.13228860193308,\n",
       "  189.46503635235712,\n",
       "  99.32774033471213,\n",
       "  19.849433241279208,\n",
       "  137.0,\n",
       "  172.97687706742772,\n",
       "  214.93254755853056,\n",
       "  166.24379687675568,\n",
       "  206.18438350175796,\n",
       "  183.98369492974098,\n",
       "  190.58856209122308,\n",
       "  154.74172029546526,\n",
       "  85.21150157109074],\n",
       " [55.97320787662612,\n",
       "  153.95129099815955,\n",
       "  66.61080993352356,\n",
       "  49.64876634922564,\n",
       "  24.08318915758459,\n",
       "  146.01369798755184,\n",
       "  79.98124780221924,\n",
       "  113.718951806636,\n",
       "  111.87939935484101,\n",
       "  48.02082881417188,\n",
       "  102.34256201600583,\n",
       "  39.35733730830886,\n",
       "  95.1892851112981,\n",
       "  169.81166037701888,\n",
       "  124.32618388738553,\n",
       "  183.9347710466947,\n",
       "  151.42654985173505,\n",
       "  100.0199980003999,\n",
       "  91.67878707749138,\n",
       "  20.024984394500787,\n",
       "  98.99494936611666]]"
      ]
     },
     "execution_count": 60,
     "metadata": {},
     "output_type": "execute_result"
    }
   ],
   "source": [
    "distance_matrix"
   ]
  },
  {
   "cell_type": "code",
   "execution_count": 61,
   "metadata": {},
   "outputs": [],
   "source": [
    "def plot_cities(cities: List[City], figure_id: int):\n",
    "    fig_map = plt.figure(figure_id)\n",
    "    ax_map = fig_map.add_subplot(111)\n",
    "\n",
    "    cities_x = [city.x for city in cities + [cities[0]]]\n",
    "    cities_y = [city.y for city in cities + [cities[0]]]\n",
    "    ax_map.plot(cities_x, cities_y, 'go-')\n",
    "    ax_map.grid()\n",
    "\n",
    "    return fig_map, ax_map"
   ]
  },
  {
   "cell_type": "code",
   "execution_count": 62,
   "metadata": {},
   "outputs": [
    {
     "data": {
      "image/png": "[encoded data removed]",
      "text/plain": [
       "<Figure size 432x288 with 1 Axes>"
      ]
     },
     "metadata": {
      "needs_background": "light"
     },
     "output_type": "display_data"
    }
   ],
   "source": [
    "fig_map, ax_map = plot_cities(cities, 1)"
   ]
  },
  {
   "cell_type": "code",
   "execution_count": 63,
   "metadata": {},
   "outputs": [
    {
     "data": {
      "text/plain": [
       "2135.1340542880625"
      ]
     },
     "execution_count": 63,
     "metadata": {},
     "output_type": "execute_result"
    }
   ],
   "source": [
    "total_distance(cities)"
   ]
  },
  {
   "cell_type": "code",
   "execution_count": 64,
   "metadata": {},
   "outputs": [],
   "source": [
    "def compute_path_indeces(index: int, num_of_cities: int):\n",
    "    index_previous = (index - 1) % num_of_cities\n",
    "    index_next = (index + 1) % num_of_cities\n",
    "    return (index_previous, index_next)"
   ]
  },
  {
   "cell_type": "code",
   "execution_count": 65,
   "metadata": {},
   "outputs": [],
   "source": [
    "def distance_swap(cities: List[City], index_a: int, index_B: int):\n",
    "    \"\"\"\n",
    "    Compute the distance inferred by the two given indices.\n",
    "    Used to optimize computation of total distances\n",
    "    \"\"\"\n",
    "\n",
    "    index_A = min(index_a, index_B)\n",
    "    index_B = max(index_a, index_B)\n",
    "\n",
    "    (index_a_previous, index_a_next) = compute_path_indeces(index_A, len(cities))\n",
    "    (index_b_previous, index_b_next) = compute_path_indeces(index_B, len(cities))\n",
    "\n",
    "    distances: List[float] = []\n",
    "\n",
    "    distances.append(cities[index_a_previous].distance_to_city(cities[index_A]))\n",
    "    distances.append(cities[index_B].distance_to_city(cities[index_b_next]))\n",
    "\n",
    "    # two cases of swaping indeces\n",
    "    if index_A == index_b_previous:\n",
    "        # --a_previous--a--b--b_next-- -> --a_previous--b--a--b_next-- \n",
    "        distances.append(cities[index_A].distance_to_city(cities[index_B]))\n",
    "    else:\n",
    "        #--a_previous--a--a_next ... b_previous-b--b_next -> --a_previous--b--a_next ... b_previous-a--b_next \n",
    "        distances.append(cities[index_A].distance_to_city(cities[index_a_next]))\n",
    "        distances.append(cities[index_b_previous].distance_to_city(cities[index_B]))\n",
    "        \n",
    "    return sum(distances)"
   ]
  },
  {
   "cell_type": "code",
   "execution_count": 66,
   "metadata": {},
   "outputs": [],
   "source": [
    "def annealing(cities: List[City], temperature: float = 100, temperature_end: float = 1, cooling_factor: float=.99):\n",
    "    cities_best = cities[:]\n",
    "    distance_best = total_distance(cities_best)\n",
    "    print(distance_best)\n",
    "\n",
    "    cities_new = cities_best[:]\n",
    "    cities_current = cities_best[:]\n",
    "\n",
    "    distance_new = distance_best\n",
    "    distance_current = distance_best\n",
    "\n",
    "    step = 0\n",
    "    while temperature > temperature_end:\n",
    "        #choose indexes to swap random\n",
    "        index_0: int = random.randint(low=1, high=len(cities))\n",
    "        index_1: int = random.randint(low=1, high=len(cities))\n",
    "\n",
    "        swap_before = distance_swap(cities_new, index_0, index_1)\n",
    "        cities_new[index_0], cities_new[index_1] = cities_new[index_1], cities_new[index_0]\n",
    "        swap_after = distance_swap(cities_new, index_0, index_1)\n",
    "        \n",
    "        # distance_new = distance_new - swap_before + swap_after\n",
    "        distance_new = total_distance(cities_new)\n",
    "        # print(distance_new)\n",
    "        diff = distance_new - distance_current\n",
    "\n",
    "        if diff < 0 or  np.exp( -diff / temperature ) > random.random():\n",
    "            cities_current = cities_new[:]\n",
    "            distance_current = distance_new\n",
    "        else:\n",
    "            distance_new = distance_current\n",
    "            cities_new = cities_current[:]\n",
    "\n",
    "        if distance_current < distance_best:\n",
    "            cities_best = cities_current[:]\n",
    "            distance_best = distance_current\n",
    "\n",
    "        temperature = temperature * cooling_factor\n",
    "        step = step + 1\n",
    "    \n",
    "    return cities_best, distance_best, step\n"
   ]
  },
  {
   "cell_type": "code",
   "execution_count": 67,
   "metadata": {},
   "outputs": [
    {
     "name": "stdout",
     "output_type": "stream",
     "text": [
      "2135.1340542880625\n"
     ]
    }
   ],
   "source": [
    "cities_best, distance_best, steps = annealing(cities, temperature=1e3, cooling_factor=0.999)"
   ]
  },
  {
   "cell_type": "code",
   "execution_count": 68,
   "metadata": {},
   "outputs": [
    {
     "data": {
      "image/png": "[encoded data removed]",
      "text/plain": [
       "<Figure size 432x288 with 1 Axes>"
      ]
     },
     "metadata": {
      "needs_background": "light"
     },
     "output_type": "display_data"
    }
   ],
   "source": [
    "fig_map, ax_map = plot_cities(cities_best, 1)"
   ]
  },
  {
   "cell_type": "code",
   "execution_count": 69,
   "metadata": {},
   "outputs": [
    {
     "data": {
      "text/plain": [
       "983.5478307522807"
      ]
     },
     "execution_count": 69,
     "metadata": {},
     "output_type": "execute_result"
    }
   ],
   "source": [
    "total_distance(cities_best)"
   ]
  },
  {
   "cell_type": "code",
   "execution_count": null,
   "metadata": {},
   "outputs": [],
   "source": []
  }
 ],
 "metadata": {
  "kernelspec": {
   "display_name": "Python 3.8.8 ('base')",
   "language": "python",
   "name": "python3"
  },
  "language_info": {
   "codemirror_mode": {
    "name": "ipython",
    "version": 3
   },
   "file_extension": ".py",
   "mimetype": "text/x-python",
   "name": "python",
   "nbconvert_exporter": "python",
   "pygments_lexer": "ipython3",
   "version": "3.8.8"
  },
  "orig_nbformat": 4,
  "vscode": {
   "interpreter": {
    "hash": "49cb93f377a7abe7414b7b0f21fb3017538004a126cf690fb524202736b7fb92"
   }
  }
 },
 "nbformat": 4,
 "nbformat_minor": 2
}
