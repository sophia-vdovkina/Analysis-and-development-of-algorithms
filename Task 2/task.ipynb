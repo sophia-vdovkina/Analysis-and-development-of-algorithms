{
 "cells": [
  {
   "cell_type": "code",
   "execution_count": 5,
   "metadata": {},
   "outputs": [],
   "source": [
    "import numpy as np\n",
    "from typing import Callable"
   ]
  },
  {
   "cell_type": "code",
   "execution_count": 17,
   "metadata": {},
   "outputs": [],
   "source": [
    "def exhaustive_search(fx: Callable[[float], float], a: float, b: float, epsolon: float = .001) -> float:\n",
    "\n",
    "    n = int((b-a)/epsolon) # calculating n so that b-a/n <= eps\n",
    "    step = (b-a)/n\n",
    "    min_y = fx(a)\n",
    "    min_x = a\n",
    "\n",
    "    for k in range(n):\n",
    "        x = a + k * step\n",
    "        y = fx(x)\n",
    "        if min_y > y: \n",
    "            min_y = y\n",
    "            min_x = x\n",
    "\n",
    "    return min_x"
   ]
  },
  {
   "cell_type": "code",
   "execution_count": 18,
   "metadata": {},
   "outputs": [
    {
     "data": {
      "text/plain": [
       "(0, 0.2, 0.223)"
      ]
     },
     "execution_count": 18,
     "metadata": {},
     "output_type": "execute_result"
    }
   ],
   "source": [
    "exhaustive_search(lambda x: x**3, 0, 1), exhaustive_search(lambda x: abs(x-0.2), 0, 1), exhaustive_search(lambda x: x * np.sin(1/x), 0.1, 1)"
   ]
  },
  {
   "cell_type": "code",
   "execution_count": null,
   "metadata": {},
   "outputs": [],
   "source": []
  }
 ],
 "metadata": {
  "interpreter": {
   "hash": "49cb93f377a7abe7414b7b0f21fb3017538004a126cf690fb524202736b7fb92"
  },
  "kernelspec": {
   "display_name": "Python 3.8.8 ('base')",
   "language": "python",
   "name": "python3"
  },
  "language_info": {
   "codemirror_mode": {
    "name": "ipython",
    "version": 3
   },
   "file_extension": ".py",
   "mimetype": "text/x-python",
   "name": "python",
   "nbconvert_exporter": "python",
   "pygments_lexer": "ipython3",
   "version": "3.8.8"
  },
  "orig_nbformat": 4
 },
 "nbformat": 4,
 "nbformat_minor": 2
}
