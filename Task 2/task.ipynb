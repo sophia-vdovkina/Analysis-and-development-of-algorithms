{
 "cells": [
  {
   "cell_type": "code",
   "execution_count": 63,
   "metadata": {},
   "outputs": [],
   "source": [
    "import numpy as np\n",
    "from numpy.typing import NDArray\n",
    "import matplotlib.pyplot as plt\n",
    "from matplotlib import animation\n",
    "import scipy\n",
    "from scipy import optimize\n",
    "\n",
    "from functools import reduce\n",
    "\n",
    "from typing import Callable, List, Tuple\n",
    "%matplotlib inline\n"
   ]
  },
  {
   "cell_type": "markdown",
   "metadata": {},
   "source": [
    "One-dimensional direct methods"
   ]
  },
  {
   "cell_type": "code",
   "execution_count": 64,
   "metadata": {},
   "outputs": [],
   "source": [
    "# Brute-force method\n",
    "def exhaustive_search(fx: Callable[[float], float], a: float, b: float, epsilon: float = .001):\n",
    "\n",
    "    iter = 0\n",
    "    fcall = 0\n",
    "\n",
    "    n = int((b-a) / epsilon)  # calculating n so that b-a/n <= eps\n",
    "    step = (b-a) / n\n",
    "\n",
    "    min_y = fx(a)\n",
    "    min_x = a\n",
    "\n",
    "    # We are just iterating over all x variables in range of 0..n\n",
    "    for k in range(n):\n",
    "        iter += 1\n",
    "        x = a + k * step\n",
    "        y = fx(x)       \n",
    "        fcall += 1   \n",
    "        # Trying to find the minimum\n",
    "        if min_y > y: \n",
    "            min_y = y\n",
    "            min_x = x\n",
    "\n",
    "    return min_x, fcall, iter"
   ]
  },
  {
   "cell_type": "code",
   "execution_count": 65,
   "metadata": {},
   "outputs": [],
   "source": [
    "def dichotomy(fx: Callable[[float], float], a: float, b: float, epsilon: float = .001):\n",
    "\n",
    "    iter = 0\n",
    "    fcall = 0\n",
    "\n",
    "    delta = epsilon / 2     # so that  0 < delta < epsilon\n",
    "\n",
    "    while (abs(a - b) >= epsilon):\n",
    "        iter += 1\n",
    "\n",
    "        x1 = (a + b - delta) / 2\n",
    "        x2 = (a + b + delta) / 2\n",
    "        \n",
    "        # Moving bounds towards the minimum\n",
    "        if(fx(x1) <= fx(x2)):\n",
    "            b = x2\n",
    "        else:\n",
    "            a = x1\n",
    "            \n",
    "        fcall += 2 \n",
    "        \n",
    "    min_x = (a + b) / 2\n",
    "    return min_x, fcall, iter"
   ]
  },
  {
   "cell_type": "code",
   "execution_count": 66,
   "metadata": {},
   "outputs": [],
   "source": [
    "from math import sqrt\n",
    "\n",
    "\n",
    "def golden_section(fx: Callable[[float], float], a: float, b: float, epsilon: float = .001):\n",
    "\n",
    "    iter = 0\n",
    "    fcall = 0\n",
    "\n",
    "    x1 = a + (3 - np.sqrt(5))  * (b - a)/2\n",
    "    x2 = b + (np.sqrt(5) - 3) * (b - a)/2    \n",
    "\n",
    "    flag = 0    # flag is needed so we only calculate one function after the first iteration\n",
    "\n",
    "    fx1 = 0\n",
    "    fx2 = 0\n",
    "\n",
    "    while (abs(a - b) >= epsilon):\n",
    "        iter += 1\n",
    "        \n",
    "        if flag == 0:\n",
    "            fx1 = fx(x1)\n",
    "            fx2 = fx(x2)\n",
    "            fcall += 2 \n",
    "\n",
    "        elif flag == 1:\n",
    "            x1 = a + (3 - np.sqrt(5))  * (b - a)/2\n",
    "            fx2 = fx1\n",
    "            fx1 = fx(x1)\n",
    "            fcall += 1 \n",
    "\n",
    "        elif flag == 2:\n",
    "            x2 = b + (np.sqrt(5) - 3) * (b - a)/2\n",
    "            fx1 = fx2\n",
    "            fx2 = fx(x2)\n",
    "            fcall += 1 \n",
    "\n",
    "\n",
    "        if(fx1 <= fx2):\n",
    "            b = x2\n",
    "            x2 = x1\n",
    "            flag = 1\n",
    "        else:\n",
    "            a = x1\n",
    "            x1 = x2\n",
    "            flag = 2\n",
    "            \n",
    "        \n",
    "    min_x = (a + b) / 2\n",
    "    return min_x, fcall, iter"
   ]
  },
  {
   "cell_type": "markdown",
   "metadata": {},
   "source": [
    "Finding minimum"
   ]
  },
  {
   "cell_type": "code",
   "execution_count": 67,
   "metadata": {},
   "outputs": [
    {
     "name": "stdout",
     "output_type": "stream",
     "text": [
      "f(x) = x^3\n",
      "Exhaustive search:\t   Solution x: f(x) -> min = 0.00000 Number of f-calculations: 1000 Number of iterations: 1000\n",
      "Dichotomy method:\t   Solution x: f(x) -> min = 0.00049 Number of f-calculations: 22 Number of iterations: 11\n",
      "Golden section method:\t   Solution x: f(x) -> min = 0.00037 Number of f-calculations: 16 Number of iterations: 15\n"
     ]
    }
   ],
   "source": [
    "print('f(x) = x^3')\n",
    "\n",
    "min_x, fcall, iter = exhaustive_search(lambda x: x**3, 0, 1)\n",
    "print(f'Exhaustive search:\\t ',' Solution x: f(x) -> min = {:.5f} Number of f-calculations: {:.0f} Number of iterations: {:.0f}'.format(min_x, fcall, iter))\n",
    "\n",
    "min_x, fcall, iter = dichotomy(lambda x: x**3, 0, 1)\n",
    "print(f'Dichotomy method:\\t ',' Solution x: f(x) -> min = {:.5f} Number of f-calculations: {:.0f} Number of iterations: {:.0f}'.format(min_x, fcall, iter))\n",
    "\n",
    "min_x, fcall, iter = golden_section(lambda x: x**3, 0, 1)\n",
    "print(f'Golden section method:\\t ',' Solution x: f(x) -> min = {:.5f} Number of f-calculations: {:.0f} Number of iterations: {:.0f}'.format(min_x, fcall, iter))"
   ]
  },
  {
   "cell_type": "code",
   "execution_count": 68,
   "metadata": {},
   "outputs": [
    {
     "name": "stdout",
     "output_type": "stream",
     "text": [
      "f(x) = |x - 0.2|\n",
      "Exhaustive search:\t   Solution x: f(x) -> min = 0.2 Number of f-calculations: 1000 Number of iterations: 1000\n",
      "Dichotomy method:\t   Solution x: f(x) -> min = 0.20010 Number of f-calculations: 22 Number of iterations: 11\n",
      "Golden section method:\t   Solution x: f(x) -> min = 0.20007 Number of f-calculations: 16 Number of iterations: 15\n"
     ]
    }
   ],
   "source": [
    "print('f(x) = |x - 0.2|')\n",
    "\n",
    "min_x, fcall, iter = exhaustive_search(lambda x: abs(x-0.2), 0, 1)\n",
    "print(f'Exhaustive search:\\t ',' Solution x: f(x) -> min = {:.5} Number of f-calculations: {:.0f} Number of iterations: {:.0f}'.format(min_x, fcall, iter))\n",
    "\n",
    "min_x, fcall, iter = dichotomy(lambda x: abs(x-0.2), 0, 1)\n",
    "print(f'Dichotomy method:\\t ',' Solution x: f(x) -> min = {:.5f} Number of f-calculations: {:.0f} Number of iterations: {:.0f}'.format(min_x, fcall, iter))\n",
    "\n",
    "min_x, fcall, iter = golden_section(lambda x: abs(x-0.2), 0, 1)\n",
    "print(f'Golden section method:\\t ',' Solution x: f(x) -> min = {:.5f} Number of f-calculations: {:.0f} Number of iterations: {:.0f}'.format(min_x, fcall, iter))"
   ]
  },
  {
   "cell_type": "code",
   "execution_count": 69,
   "metadata": {},
   "outputs": [
    {
     "name": "stdout",
     "output_type": "stream",
     "text": [
      "f(x) = x * sin(1/x)\n",
      "Exhaustive search:\t   Solution x: f(x) -> min = 0.22300 Number of f-calculations: 900 Number of iterations: 900\n",
      "Dichotomy method:\t   Solution x: f(x) -> min = 0.22257 Number of f-calculations: 22 Number of iterations: 11\n",
      "Golden section method:\t   Solution x: f(x) -> min = 0.22259 Number of f-calculations: 16 Number of iterations: 15\n"
     ]
    }
   ],
   "source": [
    "print('f(x) = x * sin(1/x)')\n",
    "\n",
    "min_x, fcall, iter = exhaustive_search(lambda x: x * np.sin(1/x), 0.1, 1)\n",
    "print(f'Exhaustive search:\\t ',' Solution x: f(x) -> min = {:.5f} Number of f-calculations: {:.0f} Number of iterations: {:.0f}'.format(min_x, fcall, iter))\n",
    "\n",
    "min_x, fcall, iter = dichotomy(lambda x: x * np.sin(1/x), 0.1, 1)\n",
    "print(f'Dichotomy method:\\t ',' Solution x: f(x) -> min = {:.5f} Number of f-calculations: {:.0f} Number of iterations: {:.0f}'.format(min_x, fcall, iter))\n",
    "\n",
    "min_x, fcall, iter = golden_section(lambda x: x * np.sin(1/x), 0.1, 1)\n",
    "print(f'Golden section method:\\t ',' Solution x: f(x) -> min = {:.5f} Number of f-calculations: {:.0f} Number of iterations: {:.0f}'.format(min_x, fcall, iter))"
   ]
  },
  {
   "cell_type": "markdown",
   "metadata": {},
   "source": [
    "Task 2"
   ]
  },
  {
   "cell_type": "code",
   "execution_count": 70,
   "metadata": {},
   "outputs": [],
   "source": [
    "# Generating random numbers\n",
    "a = np.random.uniform()\n",
    "b = np.random.uniform()\n",
    "\n",
    "x = np.linspace(0, 1., 101, dtype=np.float64)"
   ]
  },
  {
   "cell_type": "code",
   "execution_count": 71,
   "metadata": {},
   "outputs": [
    {
     "data": {
      "text/plain": [
       "(0.6711824976083198,\n",
       " 0.6083055757498997,\n",
       " array([0.  , 0.01, 0.02, 0.03, 0.04, 0.05, 0.06, 0.07, 0.08, 0.09, 0.1 ,\n",
       "        0.11, 0.12, 0.13, 0.14, 0.15, 0.16, 0.17, 0.18, 0.19, 0.2 , 0.21,\n",
       "        0.22, 0.23, 0.24, 0.25, 0.26, 0.27, 0.28, 0.29, 0.3 , 0.31, 0.32,\n",
       "        0.33, 0.34, 0.35, 0.36, 0.37, 0.38, 0.39, 0.4 , 0.41, 0.42, 0.43,\n",
       "        0.44, 0.45, 0.46, 0.47, 0.48, 0.49, 0.5 , 0.51, 0.52, 0.53, 0.54,\n",
       "        0.55, 0.56, 0.57, 0.58, 0.59, 0.6 , 0.61, 0.62, 0.63, 0.64, 0.65,\n",
       "        0.66, 0.67, 0.68, 0.69, 0.7 , 0.71, 0.72, 0.73, 0.74, 0.75, 0.76,\n",
       "        0.77, 0.78, 0.79, 0.8 , 0.81, 0.82, 0.83, 0.84, 0.85, 0.86, 0.87,\n",
       "        0.88, 0.89, 0.9 , 0.91, 0.92, 0.93, 0.94, 0.95, 0.96, 0.97, 0.98,\n",
       "        0.99, 1.  ]))"
      ]
     },
     "execution_count": 71,
     "metadata": {},
     "output_type": "execute_result"
    }
   ],
   "source": [
    "a, b, x"
   ]
  },
  {
   "cell_type": "code",
   "execution_count": 72,
   "metadata": {},
   "outputs": [],
   "source": [
    "# Generating random data\n",
    "def fx(x: NDArray[np.float64], alpha: float, beta: float) -> NDArray[np.float64]:\n",
    "    theta = np.random.randn(101)\n",
    "    y = alpha * x + beta\n",
    "    noisy_y = y  + theta\n",
    "    return y, noisy_y"
   ]
  },
  {
   "cell_type": "code",
   "execution_count": 73,
   "metadata": {},
   "outputs": [],
   "source": [
    "y, noisy_y = fx(x, a, b)"
   ]
  },
  {
   "cell_type": "code",
   "execution_count": 74,
   "metadata": {},
   "outputs": [
    {
     "data": {
      "text/plain": [
       "[<matplotlib.lines.Line2D at 0x22863898d60>]"
      ]
     },
     "execution_count": 74,
     "metadata": {},
     "output_type": "execute_result"
    },
    {
     "data": {
      "image/png": "[encoded data removed]",
      "text/plain": [
       "<Figure size 432x288 with 1 Axes>"
      ]
     },
     "metadata": {
      "needs_background": "light"
     },
     "output_type": "display_data"
    }
   ],
   "source": [
    "plt.plot(x, noisy_y)"
   ]
  },
  {
   "cell_type": "markdown",
   "metadata": {},
   "source": [
    "Approximating the data "
   ]
  },
  {
   "cell_type": "code",
   "execution_count": 75,
   "metadata": {},
   "outputs": [],
   "source": [
    "# linear approximation function\n",
    "def lin_approx_func(x, a, b):\n",
    "    y = []\n",
    "\n",
    "    for i in range(101):\n",
    "        y.append(a * x[i] + b)\n",
    "\n",
    "    return np.array(y)\n",
    "\n",
    "# rational approximation function\n",
    "def rat_approx_func(x, a, b):\n",
    "    y = []\n",
    "\n",
    "    for i in range(101):\n",
    "        y.append(a / (1 + b * x[i]))\n",
    "        \n",
    "    return np.array(y)"
   ]
  },
  {
   "cell_type": "code",
   "execution_count": 76,
   "metadata": {},
   "outputs": [],
   "source": [
    "def least_squares_linear(params, y_f, x):\n",
    "    a, b = params\n",
    "    return np.sum((lin_approx_func(x, a, b) - y_f) ** 2)\n",
    "\n",
    "def least_squares_rational(params, y_f, x):\n",
    "    a, b = params\n",
    "    return np.sum((rat_approx_func(x, a, b) - y_f) ** 2)"
   ]
  },
  {
   "cell_type": "code",
   "execution_count": 77,
   "metadata": {},
   "outputs": [
    {
     "name": "stdout",
     "output_type": "stream",
     "text": [
      "Linear optimization\n",
      "Exhaustive search method:\t 0.726031542300112 0.6875681483344553\n",
      "Gauss search method:\t 0.7260525795976657 0.6875458693068807\n",
      "Nelder-Mead method:\t 0.7263957421737569 0.6873289176964126\n"
     ]
    }
   ],
   "source": [
    "print('Linear optimization')\n",
    "# linear exhaustive search\n",
    "a_ex, b_ex = scipy.optimize.brute(least_squares_linear, [[0, 1],[0, 1]], args=(noisy_y, x))\n",
    "print(f'Exhaustive search method:\\t', a_ex, b_ex)\n",
    "\n",
    "# linear optimization Gauss method\n",
    "gauss = scipy.optimize.minimize(least_squares_linear, [0, 0], args=(noisy_y, x), method='Powell', tol=.001)\n",
    "print(f'Gauss search method:\\t', gauss.x[0], gauss.x[1])\n",
    "\n",
    "# linear optimization Nelder-Mead\n",
    "nelderMead = scipy.optimize.minimize(least_squares_linear, [0, 0], args=(noisy_y, x), method='Nelder-Mead', tol=.001)\n",
    "print(f'Nelder-Mead method:\\t', nelderMead.x[0], nelderMead.x[1])"
   ]
  },
  {
   "cell_type": "code",
   "execution_count": 78,
   "metadata": {},
   "outputs": [
    {
     "data": {
      "image/png": "[encoded data removed]",
      "text/plain": [
       "<Figure size 864x576 with 1 Axes>"
      ]
     },
     "metadata": {
      "needs_background": "light"
     },
     "output_type": "display_data"
    }
   ],
   "source": [
    "plt.figure(figsize=(12, 8))\n",
    "plt.grid()\n",
    "plt.plot(x, noisy_y, 'o')\n",
    "plt.plot(x, y, color='black')\n",
    "\n",
    "plot_y = []\n",
    "for i in range(101):\n",
    "    plot_y.append(a_ex * x[i] + b_ex)\n",
    "plt.plot(x, plot_y)\n",
    "\n",
    "plot_y = []\n",
    "for i in range(101):\n",
    "    plot_y.append(gauss.x[0] * x[i] + gauss.x[1])\n",
    "plt.plot(x, plot_y)\n",
    "    \n",
    "plot_y = []\n",
    "for i in range(101):\n",
    "    plot_y.append(nelderMead.x[0] * x[i] + nelderMead.x[1])\n",
    "plt.plot(x, plot_y)\n",
    "    \n",
    "plt.legend(['Noisy data', 'Data', 'Exhaustive search method', 'Gauss search method', 'Nelder-Mead method'])\n",
    "plt.show()"
   ]
  },
  {
   "cell_type": "code",
   "execution_count": 79,
   "metadata": {},
   "outputs": [
    {
     "name": "stdout",
     "output_type": "stream",
     "text": [
      "Rational optimization\n",
      "Exhaustive search method:\t 0.8015844846289599 -0.4361070822304273\n",
      "Gauss search method:\t 0.8016673290008245 -0.4361890175412941\n",
      "Nelder-Mead method:\t 0.8018865508486617 -0.4358263336280155\n"
     ]
    }
   ],
   "source": [
    "print('Rational optimization')\n",
    "# rational exhaustive search\n",
    "a_ex, b_ex = scipy.optimize.brute(least_squares_rational, [[0, 1],[0, 1]], args=(noisy_y, x))\n",
    "print(f'Exhaustive search method:\\t', a_ex, b_ex)\n",
    "\n",
    "# rational optimization Gauss method\n",
    "gauss = scipy.optimize.minimize(least_squares_rational, [0, 0], args=(noisy_y, x), method='Powell', tol=.001)\n",
    "print(f'Gauss search method:\\t', gauss.x[0], gauss.x[1])\n",
    "\n",
    "# rational optimization Nelder-Mead\n",
    "nelderMead = scipy.optimize.minimize(least_squares_rational, [0, 0], args=(noisy_y, x), method='Nelder-Mead', tol=.001)\n",
    "print(f'Nelder-Mead method:\\t', nelderMead.x[0], nelderMead.x[1])"
   ]
  },
  {
   "cell_type": "code",
   "execution_count": 80,
   "metadata": {},
   "outputs": [
    {
     "data": {
      "image/png": "[encoded data removed]",
      "text/plain": [
       "<Figure size 864x576 with 1 Axes>"
      ]
     },
     "metadata": {
      "needs_background": "light"
     },
     "output_type": "display_data"
    }
   ],
   "source": [
    "plt.figure(figsize=(12, 8))\n",
    "plt.grid()\n",
    "plt.plot(x, noisy_y, 'o')\n",
    "plt.plot(x, y, color='black')\n",
    "\n",
    "plot_y = []\n",
    "for i in range(101):\n",
    "    plot_y.append(a_ex / (1 + b_ex * x[i]))\n",
    "plt.plot(x, plot_y)\n",
    "\n",
    "plot_y = []\n",
    "for i in range(101):\n",
    "    plot_y.append(gauss.x[0] / (1 + gauss.x[1] * x[i]))\n",
    "plt.plot(x, plot_y)\n",
    "    \n",
    "plot_y = []\n",
    "for i in range(101):\n",
    "    plot_y.append(nelderMead.x[0] / (1 + nelderMead.x[1] * x[i]))\n",
    "plt.plot(x, plot_y)\n",
    "    \n",
    "plt.legend(['Noisy data', 'Data', 'Exhaustive search method', 'Gauss search method', 'Nelder-Mead method'])\n",
    "plt.show()"
   ]
  }
 ],
 "metadata": {
  "interpreter": {
   "hash": "49cb93f377a7abe7414b7b0f21fb3017538004a126cf690fb524202736b7fb92"
  },
  "kernelspec": {
   "display_name": "Python 3.8.8 ('base')",
   "language": "python",
   "name": "python3"
  },
  "language_info": {
   "codemirror_mode": {
    "name": "ipython",
    "version": 3
   },
   "file_extension": ".py",
   "mimetype": "text/x-python",
   "name": "python",
   "nbconvert_exporter": "python",
   "pygments_lexer": "ipython3",
   "version": "3.8.8"
  },
  "orig_nbformat": 4
 },
 "nbformat": 4,
 "nbformat_minor": 2
}
